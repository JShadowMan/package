{
 "cells": [
  {
   "cell_type": "markdown",
   "metadata": {},
   "source": [
    "## 常用标准库和第三方库\n",
    "\n",
    "\n",
    "我们这边只简单介绍几个常用的标准库和第三方库, 包括如下这些\n",
    " * 标准库\n",
    "     * `collections`: 更多高级的容器类型, 例如`namedtuple`(命名元组), `deque`(双端链表), `OrderedDict`(有序字典)\n",
    "     * `time`: 时间相关类库\n",
    "     * `datetime`: 日期相关类库(*时区换算)\n",
    "     * `urllib`: 一般用来处理请求或者构造简单的请求\n",
    "     * `urllib3`: 功能强大，条理清晰，用于HTTP客户端的Python库\n",
    "     * `re`: 正则表达式库\n",
    "     * `os`: 系统底层调用相关操作\n",
    "     * `sys`: Python内部调用和底层配置等相关\n",
    "     * `threading`: *多线程\n",
    "     * `multiprocess`: *多进程\n",
    "     * `asyncio`: *异步协程\n",
    " * 第三方库\n",
    "     * `requests`: 强大的第三方Http客户端(一般无特殊情况都使用这个)\n",
    "     * `flask`: 第三方web服务框架\n",
    "     * `beautifulsoup(bs4)`: html/xml解析类库\n",
    "     * `Pillow`: 第三方图片处理类库\n",
    "     * `scrapy`: 爬虫框架, 支持分布式等\n",
    "     * `numpy`: *科学计算\n",
    "     * `scipy`: *科学计算\n",
    "     * `tensorflow`: *深度学习"
   ]
  },
  {
   "cell_type": "markdown",
   "metadata": {},
   "source": [
    "### 标准库: 时间日期相关\n",
    "\n",
    "时间与日期相关的操作一般我们直接使用`time`和`datetime`处理即可"
   ]
  },
  {
   "cell_type": "code",
   "execution_count": null,
   "metadata": {},
   "outputs": [],
   "source": [
    "# 引入time模块\n",
    "import time\n",
    "\n",
    "# 引入datetime模块\n",
    "#\n",
    "# 这里使用from ... import ...的形式\n",
    "# 是因为datetime相关的操作都在`datetime`类中\n",
    "from datetime import datetime"
   ]
  },
  {
   "cell_type": "code",
   "execution_count": null,
   "metadata": {},
   "outputs": [],
   "source": [
    "# 获取当前时间戳\n",
    "print(time.time())"
   ]
  },
  {
   "cell_type": "code",
   "execution_count": null,
   "metadata": {},
   "outputs": [],
   "source": [
    "# 将时间格式化输出\n",
    "print(time.strftime('%Y-%m-%d %H:%M:%S'))"
   ]
  },
  {
   "cell_type": "code",
   "execution_count": null,
   "metadata": {},
   "outputs": [],
   "source": [
    "# 将时间转换为时间戳\n",
    "print(time.strptime('2019-10-01 12:00:00', '%Y-%m-%d %H:%M:%S'))"
   ]
  },
  {
   "cell_type": "code",
   "execution_count": null,
   "metadata": {},
   "outputs": [],
   "source": [
    "# 休眠一段时间\n",
    "time.sleep(3)"
   ]
  },
  {
   "cell_type": "code",
   "execution_count": null,
   "metadata": {},
   "outputs": [],
   "source": [
    "# 构造日期\n",
    "d = datetime(2019, 10, 1, 12)\n",
    "print(d)\n",
    "print(d.date(), '***', d.time())"
   ]
  },
  {
   "cell_type": "code",
   "execution_count": null,
   "metadata": {},
   "outputs": [],
   "source": [
    "#\n",
    "# 时区相关处理建议安装 pytz包\n",
    "#\n",
    "import pytz\n",
    "\n",
    "# 初始化一个UTC时间\n",
    "t = datetime(2019, 10, 1, tzinfo=pytz.utc)\n",
    "print(t)"
   ]
  },
  {
   "cell_type": "code",
   "execution_count": null,
   "metadata": {},
   "outputs": [],
   "source": [
    "# 获取这个时候北京时间\n",
    "print(t.astimezone(pytz.timezone('Asia/Shanghai')))\n",
    "# 获取这个时候的日本时间\n",
    "print(t.astimezone(pytz.timezone('Asia/Tokyo')))"
   ]
  },
  {
   "cell_type": "markdown",
   "metadata": {},
   "source": [
    "### 标准库: Http客户端\n",
    "\n",
    "Http客户端一般情况都是直接使用`requests`, 一般也只是使用`urllib`来处理或者构造URL或者参数"
   ]
  },
  {
   "cell_type": "code",
   "execution_count": null,
   "metadata": {},
   "outputs": [],
   "source": [
    "# 引入urllib解析相关的方法\n",
    "from urllib.parse import urlparse, parse_qs\n",
    "\n",
    "url = 'https://user@pass:www.baidu.com/search?query=hello&page=1&page_size=20'"
   ]
  },
  {
   "cell_type": "code",
   "execution_count": null,
   "metadata": {},
   "outputs": [],
   "source": [
    "# 解析URL\n",
    "components = urlparse(url)\n",
    "print(components)"
   ]
  },
  {
   "cell_type": "code",
   "execution_count": null,
   "metadata": {},
   "outputs": [],
   "source": [
    "# 解析请求参数\n",
    "print(parse_qs(components.query))"
   ]
  },
  {
   "cell_type": "markdown",
   "metadata": {},
   "source": [
    "虽然我们一般不使用urllib或者urllib3来进行网络请求, 但是不代表他们不可以, 只是没有`requests`那么方便而已"
   ]
  },
  {
   "cell_type": "code",
   "execution_count": null,
   "metadata": {
    "scrolled": true
   },
   "outputs": [],
   "source": [
    "# 使用urllib来构造一个请求\n",
    "import urllib\n",
    "\n",
    "# 处理post数据\n",
    "data = {'user': 'aaa', 'pawd': 'bbb'}\n",
    "form = urllib.parse.urlencode(data).encode('utf-8')\n",
    "\n",
    "# 构造一个请求\n",
    "request = urllib.request.Request('http://www.httpbin.org/post?q=1', form)\n",
    "# 开始进行请求\n",
    "response = urllib.request.urlopen(request)\n",
    "# 获取响应内容\n",
    "print(response.read())"
   ]
  },
  {
   "cell_type": "code",
   "execution_count": null,
   "metadata": {},
   "outputs": [],
   "source": [
    "# 使用urllib3构造一个请求\n",
    "import urllib3\n",
    "\n",
    "# 获取一个客户端池\n",
    "http = urllib3.PoolManager()\n",
    "# 执行请求\n",
    "r = http.request('post', 'http://www.httpbin.org/post?q=1', {'user': 'aaa', 'pawd': 'bbb'})\n",
    "# 打印响应结果\n",
    "print(r.status)\n",
    "print(r.data)"
   ]
  },
  {
   "cell_type": "markdown",
   "metadata": {},
   "source": [
    "### 标准库: 正则表达式\n",
    "\n",
    "正则表达式我们一般使用`re`这个库"
   ]
  },
  {
   "cell_type": "code",
   "execution_count": null,
   "metadata": {},
   "outputs": [],
   "source": [
    "# 引入正则表达式库\n",
    "import re"
   ]
  },
  {
   "cell_type": "code",
   "execution_count": null,
   "metadata": {},
   "outputs": [],
   "source": [
    "# 寻找所有数字, match默认是需要全部匹配\n",
    "m0 = re.match('\\d+', 'qqweh1293712as86786das')\n",
    "print(m0)\n",
    "\n",
    "m1 = re.search('\\d+', 'qqweh1293712as86786das')\n",
    "print(m1)"
   ]
  },
  {
   "cell_type": "markdown",
   "metadata": {},
   "source": [
    "### 标准库: 操作系统和Python环境相关\n",
    "\n",
    "这里一般我们直接使用`os`和`sys`库"
   ]
  },
  {
   "cell_type": "code",
   "execution_count": null,
   "metadata": {},
   "outputs": [],
   "source": [
    "# 引入库\n",
    "import os\n",
    "import sys"
   ]
  },
  {
   "cell_type": "code",
   "execution_count": null,
   "metadata": {},
   "outputs": [],
   "source": [
    "# 获取当前python的命令行参数\n",
    "print(sys.argv)"
   ]
  },
  {
   "cell_type": "code",
   "execution_count": null,
   "metadata": {},
   "outputs": [],
   "source": [
    "# 退出进程\n",
    "sys.exit()"
   ]
  },
  {
   "cell_type": "code",
   "execution_count": null,
   "metadata": {},
   "outputs": [],
   "source": [
    "# 获取当前工作目录\n",
    "print(os.getcwd())\n",
    "# 获取当前进程PID和PPID\n",
    "print(os.getpid(), os.getppid())"
   ]
  },
  {
   "cell_type": "code",
   "execution_count": null,
   "metadata": {},
   "outputs": [],
   "source": [
    "# 判断某个目录存不存在\n",
    "print(os.path.exists('/'))\n",
    "# 根据相对路径获得绝对路径\n",
    "print(os.path.abspath('.'))"
   ]
  },
  {
   "cell_type": "markdown",
   "metadata": {},
   "source": [
    "### 第三方: requests\n",
    "\n",
    "Python中最常用也是最好用的http客户端类库\n",
    "\n",
    "一般我们使用`pip`来安装官方仓库中的第三方库, 或者使用`easy_install`进行安装."
   ]
  },
  {
   "cell_type": "code",
   "execution_count": null,
   "metadata": {},
   "outputs": [],
   "source": [
    "# 引入requests\n",
    "import requests"
   ]
  },
  {
   "cell_type": "code",
   "execution_count": null,
   "metadata": {},
   "outputs": [],
   "source": [
    "# 发起一个请求并获得结果\n",
    "r = requests.post('http://www.httpbin.org/post?q=1', {'user': 'aaa', 'pawd': 'bbb'})\n",
    "print(r)\n",
    "print(r.status_code)\n",
    "print(r.headers)\n",
    "print(r.text)\n",
    "print(r.json())"
   ]
  },
  {
   "cell_type": "code",
   "execution_count": null,
   "metadata": {},
   "outputs": [],
   "source": [
    "# 自动携带第一次获取的cookies\n",
    "\n",
    "# 创建会话\n",
    "session = requests.session()\n",
    "\n",
    "# 服务端设置一个cookies\n",
    "r = session.get('http://httpbin.org/cookies/set/cookiename/cookievalue')\n",
    "print(r.headers)\n",
    "print(r.raw)\n",
    "\n",
    "# 第二次请求会自动携带cookies\n",
    "r = session.get(\"http://httpbin.org/cookies\")\n",
    "print(r.json())"
   ]
  },
  {
   "cell_type": "markdown",
   "metadata": {},
   "source": [
    "### 第三方: html内容处理\n",
    "\n",
    "涉及到html及xml处理, 一般使用`bs4`这个库进行操作"
   ]
  },
  {
   "cell_type": "code",
   "execution_count": null,
   "metadata": {},
   "outputs": [],
   "source": [
    "# 引入bs4\n",
    "from bs4 import BeautifulSoup\n",
    "\n",
    "# 获取一段HTML内容\n",
    "r = requests.get('http://www.zxcs.me')\n",
    "html = r.text\n",
    "print(html)"
   ]
  },
  {
   "cell_type": "code",
   "execution_count": null,
   "metadata": {},
   "outputs": [],
   "source": [
    "# 初始化解析器\n",
    "soup = BeautifulSoup(html, 'html.parser')\n",
    "print(soup.prettify())"
   ]
  },
  {
   "cell_type": "code",
   "execution_count": null,
   "metadata": {},
   "outputs": [],
   "source": [
    "# 获取所有a标签\n",
    "print(soup.find_all('a'))"
   ]
  },
  {
   "cell_type": "code",
   "execution_count": null,
   "metadata": {},
   "outputs": [],
   "source": [
    "# 使用css选择器搜索\n",
    "print(soup.select('.title strong'))"
   ]
  },
  {
   "cell_type": "markdown",
   "metadata": {},
   "source": [
    "### 第三方: http服务\n",
    "\n",
    "Python中的web服务框架很多, 比较知名的有`flask`(小而美), `django`(大而全). 我们这边简单使用`flask`演示一个简单的web服务\n",
    "\n",
    "__代码位于`sources/ch05/web_server`__"
   ]
  },
  {
   "cell_type": "markdown",
   "metadata": {},
   "source": [
    "### 第三方: 图片处理\n",
    "\n",
    "Python中大部分的图片处理都可以使用`Pillow`进行处理. 更高层次的, 可以使用`opencv`做到更复杂的事情"
   ]
  },
  {
   "cell_type": "code",
   "execution_count": null,
   "metadata": {},
   "outputs": [],
   "source": [
    "# 引入Pillow\n",
    "from PIL import Image"
   ]
  },
  {
   "cell_type": "code",
   "execution_count": null,
   "metadata": {},
   "outputs": [],
   "source": [
    "# 加载图片\n",
    "im = Image.open('dog.jpg')\n",
    "# 显示图片\n",
    "im.show()"
   ]
  },
  {
   "cell_type": "code",
   "execution_count": null,
   "metadata": {},
   "outputs": [],
   "source": [
    "#进行上下颠倒\n",
    "out = im.transpose(Image.FLIP_TOP_BOTTOM)\n",
    "# 保存图片\n",
    "out.save('1.jpg')\n",
    "\n",
    "#进行左右颠倒\n",
    "out =out.transpose(Image.FLIP_LEFT_RIGHT)\n",
    "# 保存图片\n",
    "out.save('2.jpg')\n",
    "\n",
    "# 进行旋转90\n",
    "out = im.transpose(Image.ROTATE_90)\n",
    "# 保存图片\n",
    "out.save('3.jpg')\n",
    "\n",
    "# 进行旋转180\n",
    "out = im.transpose(Image.ROTATE_180)\n",
    "# 保存图片\n",
    "out.save('4.jpg')\n",
    "\n",
    "# 进行旋转270\n",
    "out = im.transpose(Image.ROTATE_270)\n",
    "# 保存图片\n",
    "out.save('5.jpg')"
   ]
  }
 ],
 "metadata": {
  "kernelspec": {
   "display_name": "Python 3",
   "language": "python",
   "name": "python3"
  },
  "language_info": {
   "codemirror_mode": {
    "name": "ipython",
    "version": 3
   },
   "file_extension": ".py",
   "mimetype": "text/x-python",
   "name": "python",
   "nbconvert_exporter": "python",
   "pygments_lexer": "ipython3",
   "version": "3.6.5"
  }
 },
 "nbformat": 4,
 "nbformat_minor": 2
}
