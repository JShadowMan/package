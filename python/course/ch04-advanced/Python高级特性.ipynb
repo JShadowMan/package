{
 "cells": [
  {
   "cell_type": "markdown",
   "metadata": {},
   "source": [
    "## Python中常用的高级特性"
   ]
  },
  {
   "cell_type": "markdown",
   "metadata": {},
   "source": [
    "### 三目运算符\n",
    "\n",
    "例如`Javascript`或者`php`等大部分编程语言中都会提供三目运算符以达到快捷的判断赋值功能.\n",
    "\n",
    "但是在Python开发者认为不符合Python简洁, 简单的特点, 所以其实Python中没有常见的`?:`形式的三目运算符.\n",
    "\n",
    "取而代之的是`true_exp if cond else false_exp`这种形式.\n",
    "\n",
    "语法为: `为真时候的值 if 判断表达式 else 为假时候的值`"
   ]
  },
  {
   "cell_type": "code",
   "execution_count": null,
   "metadata": {},
   "outputs": [],
   "source": [
    "# 给一个变量赋值, 取得给定整形变量的绝对值\n",
    "number1 = -11\n",
    "value1 = number1\n",
    "if value1 < 0:\n",
    "    value1 = -value1\n",
    "print(value1)"
   ]
  },
  {
   "cell_type": "code",
   "execution_count": null,
   "metadata": {},
   "outputs": [],
   "source": [
    "# 我们这边可以使用Python中特殊的三目运算符形式\n",
    "number2 = -22\n",
    "\n",
    "value2 = number2 if number2 > 0 else -number2\n",
    "\n",
    "print(value2)"
   ]
  },
  {
   "cell_type": "markdown",
   "metadata": {},
   "source": [
    "### 列表生成式\n",
    "\n",
    "列表生成式是一种生成规律数组的简写形式."
   ]
  },
  {
   "cell_type": "code",
   "execution_count": null,
   "metadata": {},
   "outputs": [],
   "source": [
    "# 例子1: 生成一个1*1, 2*2, 3*3, ..., 9*9的数组, 我们分别使用2种形式\n",
    "\n",
    "# 循环形式\n",
    "list1 = []\n",
    "for n in range(10):\n",
    "    list1.append(n * n)\n",
    "print(list1)\n",
    "\n",
    "# 使用列表生成式\n",
    "print([     n * n    for    n    in    range(10)    ])"
   ]
  },
  {
   "cell_type": "code",
   "execution_count": null,
   "metadata": {},
   "outputs": [],
   "source": [
    "# 例子2: 生成一个乘法口诀列表\n",
    "\n",
    "# 循环结构\n",
    "list2 = []\n",
    "for i in range(1, 10):\n",
    "    for j in range(1, i + 1):\n",
    "        list2.append(i * j)\n",
    "print(list2)\n",
    "\n",
    "# 列表生成式方式\n",
    "print([i * j for i in range(1, 10) for j in range(1, i + 1)])"
   ]
  },
  {
   "cell_type": "markdown",
   "metadata": {},
   "source": [
    "### 字典生成式\n",
    "\n",
    "字典生成式和列表生成式语法类型. 也是一个生成规律字典的简写形式."
   ]
  },
  {
   "cell_type": "code",
   "execution_count": null,
   "metadata": {},
   "outputs": [],
   "source": [
    "# 生成键值为相同数字的字典\n",
    "print({     n: n    for    n    in    range(10)    })\n",
    "\n",
    "# 生成键为ASCII, 值为字母的字典\n",
    "print({chr(ord('A') + i): (ord('A') + i) for i in range(26)})"
   ]
  },
  {
   "cell_type": "markdown",
   "metadata": {},
   "source": [
    "### lambda表达式\n",
    "\n",
    "所谓`lambda`表达式, 即其他语言中的匿名函数. 但是与一般的匿名函数又有所不同.\n",
    "\n",
    "在`lambda`表达式中只允许直接写返回值, 不允许有其他语句\n",
    "\n",
    "语法: `lambda 参数: 返回值`"
   ]
  },
  {
   "cell_type": "code",
   "execution_count": null,
   "metadata": {},
   "outputs": [],
   "source": [
    "# 对于给定数组A, 返回该数组的拷贝, 值为对应元素的值的平方\n",
    "list(map(lambda x: x * x, range(10)))"
   ]
  },
  {
   "cell_type": "code",
   "execution_count": null,
   "metadata": {},
   "outputs": [],
   "source": [
    "# 对于给定数组A, 自定义排序其中的字段\n",
    "from functools import reduce\n",
    "\n",
    "\n",
    "reduce(lambda x, s: x + s, range(10), 0)"
   ]
  },
  {
   "cell_type": "markdown",
   "metadata": {},
   "source": [
    "### 上下文管理器\n",
    "\n",
    "对于一个文件或者网络操作, 我们需要在使用完资源之后关闭这个资源才能保证内存不泄露. \n",
    "\n",
    "这时候在退出的时候进行方便的资源关闭就显的非常重要."
   ]
  },
  {
   "cell_type": "code",
   "execution_count": null,
   "metadata": {},
   "outputs": [],
   "source": [
    "# 首先使用其他语言中常用的方式来处理文件的关闭\n",
    "def proc_file1(filename):\n",
    "    fp = open(filename, 'r')\n",
    "    for line in fp.readlines():\n",
    "        print(line)\n",
    "        if \"5\" in line:\n",
    "            print(\"err\")\n",
    "            fp.close()\n",
    "            return False\n",
    "        if line == \"xxx\":\n",
    "            fp.close()\n",
    "            return True\n",
    "    fp.close()\n",
    "proc_file1('data.txt')\n",
    "\n",
    "# 使用上下文管理器的方式进行安全的文件读取\n",
    "def proc_file2(filename):\n",
    "    with open(filename, 'r') as fp:\n",
    "        for line in fp.readlines():\n",
    "            print(line)\n",
    "            if \"5\" in line:\n",
    "                print(\"err\")\n",
    "                return False\n",
    "            if line == \"xxx\":\n",
    "                return True\n",
    "proc_file2('data.txt')"
   ]
  },
  {
   "cell_type": "markdown",
   "metadata": {},
   "source": [
    "在python中, 这是通过对象中的`__enter__`和`__exit__`保留方法实现的. 我们也可以自己定义类中的这两个方法来实现我们自己的上下文管理器"
   ]
  },
  {
   "cell_type": "code",
   "execution_count": null,
   "metadata": {},
   "outputs": [],
   "source": [
    "class Resource(object):\n",
    "    \n",
    "    # 返回值会作为获取到资源\n",
    "    def __enter__(self):\n",
    "        print('获取字段')\n",
    "        return 'resource handler'\n",
    "    \n",
    "    # 退出时执行清理操作\n",
    "    def __exit__(self, exc_type, exc_val, exc_tb):\n",
    "        print('释放资源', exc_type, exc_val, exc_tb)\n",
    "\n",
    "# 无异常情况\n",
    "with Resource() as r:\n",
    "    print(r)"
   ]
  },
  {
   "cell_type": "code",
   "execution_count": null,
   "metadata": {},
   "outputs": [],
   "source": [
    "# 有异常情况下, __exit__ 方法中会获取到异常的错误\n",
    "\n",
    "with Resource() as r:\n",
    "    print(r)\n",
    "    raise Exception(\"error on process\")"
   ]
  },
  {
   "cell_type": "code",
   "execution_count": null,
   "metadata": {},
   "outputs": [],
   "source": [
    "# 思考以下会不会字段释放资源\n",
    "with Resource() as r:\n",
    "    print(r)\n",
    "    exit()"
   ]
  },
  {
   "attachments": {},
   "cell_type": "markdown",
   "metadata": {},
   "source": [
    "## 生成器\n",
    "\n",
    "在一个普通函数中我们使用`yield`关键字, __临时的\"返回\"一些值给到调用者__\n",
    "\n",
    "这在Python中就是我们所说的生成器.\n",
    "\n",
    "生成器按照某种算法每次生成一次值(可以多个). 这样可以避免生成大量不需要的值, 节省内存空间."
   ]
  },
  {
   "cell_type": "code",
   "execution_count": null,
   "metadata": {},
   "outputs": [],
   "source": [
    "# 对于一个最简单的生成器, 只需要我们将列表生成式的 `[]` 替换为 `()` 就可以得到一个生成器对象\n",
    "g1 = (n * n for n in range(3))\n",
    "print(g1, type(g1))"
   ]
  },
  {
   "cell_type": "markdown",
   "metadata": {},
   "source": [
    "__我们可以使用  `next`  方法获取每次临时返回的值__"
   ]
  },
  {
   "cell_type": "code",
   "execution_count": null,
   "metadata": {},
   "outputs": [],
   "source": [
    "# 我们可以使用  next  方法获取每次临时返回的值\n",
    "print(next(g1))\n",
    "print(next(g1))\n",
    "print(next(g1))"
   ]
  },
  {
   "cell_type": "code",
   "execution_count": null,
   "metadata": {},
   "outputs": [],
   "source": [
    "# 在内部不再  临时  返回值的时候, 我们再次调用  next  方法会得到一个StopIteration异常, 表示生成器已结束\n",
    "next(g1)"
   ]
  },
  {
   "cell_type": "code",
   "execution_count": null,
   "metadata": {},
   "outputs": [],
   "source": [
    "# 自定义生成器\n",
    "def generator2():\n",
    "    print(1)\n",
    "    yield 'a'\n",
    "    print(2)\n",
    "    yield 'b'\n",
    "    print(3)\n",
    "    yield 'c'\n",
    "    return \"return返回的结果值\"\n",
    "\n",
    "g2 = generator2()"
   ]
  },
  {
   "cell_type": "code",
   "execution_count": null,
   "metadata": {},
   "outputs": [],
   "source": [
    "# 观察结果判断执行流程\n",
    "next(g2)"
   ]
  },
  {
   "cell_type": "code",
   "execution_count": null,
   "metadata": {
    "scrolled": false
   },
   "outputs": [],
   "source": [
    "# 我们也可以使用 for 循环的方式来获取值\n",
    "g3 = generator2()\n",
    "for v in g3:\n",
    "    print(\"得到值: \", v)\n",
    "# 注意这时候我们就不能得到生成器的返回值了"
   ]
  },
  {
   "cell_type": "code",
   "execution_count": null,
   "metadata": {},
   "outputs": [],
   "source": [
    "# 或者使用 list() 或者tuple() 类似的方式将生成的值放到对应的类型数组/元组中\n",
    "print(list(generator2()))\n",
    "print(tuple(generator2()))"
   ]
  },
  {
   "cell_type": "markdown",
   "metadata": {},
   "source": [
    "__我们可以在临时返回值的时候, 自动往生成器里 使用  `send`  方法发送值__\n",
    "\n",
    "__首次发送的值必须为None__"
   ]
  },
  {
   "cell_type": "code",
   "execution_count": null,
   "metadata": {},
   "outputs": [],
   "source": [
    "def generator3():\n",
    "    print(\"生成器内部: 1\")\n",
    "    v1 = yield 'a'\n",
    "    print(\"生成器内部: 2\")\n",
    "    print(v1)\n",
    "    print(\"生成器内部: 3\")\n",
    "    v2 = yield 'b'\n",
    "    print(\"生成器内部: 4\")\n",
    "    print(v2)\n",
    "    print(\"生成器内部: 5\")\n",
    "    v3 = yield 'c'\n",
    "    print(\"生成器内部: 6\")\n",
    "    print(v3)\n",
    "    print(\"生成器内部: 7\")\n",
    "    return \"return返回的结果值\"\n",
    "\n",
    "g4 = generator3()"
   ]
  },
  {
   "cell_type": "code",
   "execution_count": null,
   "metadata": {},
   "outputs": [],
   "source": [
    "print(\"生成器返回值:\", g4.send(1))"
   ]
  },
  {
   "cell_type": "markdown",
   "metadata": {},
   "source": [
    "理解了以上内容之后, 我们再看__如何在一个生成器中临时返回另一个生成器中的内容__\n",
    "\n",
    "要达到以上需求, 我们使用`yield from`关键字, 从一个生成器中生成值. 思考为什么不使用`yield`?"
   ]
  },
  {
   "cell_type": "code",
   "execution_count": null,
   "metadata": {},
   "outputs": [],
   "source": [
    "# 我们有2个初始生成器\n",
    "\n",
    "\n",
    "# 奇数生成器\n",
    "def odd():\n",
    "    for i in range(1, 10, 2):\n",
    "        yield i\n",
    "\n",
    "# 偶数生成器\n",
    "def even():\n",
    "    for i in range(0, 10, 2):\n",
    "        yield i\n",
    "\n",
    "print(list(odd()))\n",
    "print(list(even()))"
   ]
  },
  {
   "cell_type": "code",
   "execution_count": null,
   "metadata": {},
   "outputs": [],
   "source": [
    "# 我们定义一个新的生成器, 依赖这两个生成器生成值\n",
    "\n",
    "def numbers():\n",
    "    yield from odd()\n",
    "    yield from even()\n",
    "\n",
    "print(list(numbers()))"
   ]
  },
  {
   "cell_type": "markdown",
   "metadata": {},
   "source": [
    "### 生成器结合上下文管理器使用\n",
    "\n",
    "如果每次使用上下文管理器都需要写一个类来定义`__enter__`和`__exit__`方法, 这不符合Python简洁至上的原则.\n",
    "\n",
    "我们结合生成器的特效, __临时返回一个值, 下次next的时候继续执行__ 的特性, 我们是不是可以使用这个特性来自动生成一个上下文管理器呢?"
   ]
  },
  {
   "cell_type": "code",
   "execution_count": null,
   "metadata": {},
   "outputs": [],
   "source": [
    "import contextlib\n",
    "\n",
    "# 使用装饰器自动生成上下文管理器对象\n",
    "@contextlib.contextmanager\n",
    "def resource():\n",
    "    print(\"初始化...\")\n",
    "    yield \"资源\"\n",
    "    print(\"清理资源...\")\n",
    "\n",
    "\n",
    "with resource() as r:\n",
    "    print(\"获取到: \", r)"
   ]
  },
  {
   "cell_type": "markdown",
   "metadata": {},
   "source": [
    "## 作业\n",
    "\n",
    "这个作业作为整个基础语法和高级特性部分的总结作业.\n",
    "\n",
    "__手工实现一个简单上下文管理器对象__"
   ]
  }
 ],
 "metadata": {
  "kernelspec": {
   "display_name": "Python 3",
   "language": "python",
   "name": "python3"
  },
  "language_info": {
   "codemirror_mode": {
    "name": "ipython",
    "version": 3
   },
   "file_extension": ".py",
   "mimetype": "text/x-python",
   "name": "python",
   "nbconvert_exporter": "python",
   "pygments_lexer": "ipython3",
   "version": "3.6.5"
  }
 },
 "nbformat": 4,
 "nbformat_minor": 2
}
