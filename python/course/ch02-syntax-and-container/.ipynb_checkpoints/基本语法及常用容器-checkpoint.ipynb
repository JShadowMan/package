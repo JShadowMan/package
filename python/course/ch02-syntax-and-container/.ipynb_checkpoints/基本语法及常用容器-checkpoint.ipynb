{
 "cells": [
  {
   "cell_type": "markdown",
   "metadata": {},
   "source": [
    "## Python中的基本语法\n",
    "\n",
    "Python中没有不使用`{}`来区分语句块, 而使用`Tab`缩进来表示不同的语句块.\n",
    "并且代码尾部不需要写`;`来表示一个语句的结束, 但是如果想多个语句写在一行, 也是可以的, 但是不怎么推荐."
   ]
  },
  {
   "cell_type": "markdown",
   "metadata": {},
   "source": [
    "#### 代码中的注释\n",
    "\n",
    "在Python中通常使用`#`来表示注释, 也可以使用`\"\"\" ... \"\"\"`来表示一大段的注释\n",
    "\n",
    "__高阶技巧: 通常我们也可以在代码中使用`\"\"\" ... \"\"\"`来进行doctest__"
   ]
  },
  {
   "cell_type": "markdown",
   "metadata": {},
   "source": [
    "### Python中的简单语句\n",
    "\n",
    "所谓简单语句, 即由一个单独的逻辑行构成。 多条简单语句可以存在于同一行内并以分号分隔。\n",
    " * 物理行: 是以一个行终止序列结束的字符序列, 就是一般意义上的一行代码\n",
    " * 逻辑行: 是以一个语句的结束作为标志, 一般指一个表达式/语法"
   ]
  },
  {
   "cell_type": "code",
   "execution_count": null,
   "metadata": {},
   "outputs": [],
   "source": [
    "year = 2019 # 赋值表达式, 一行可以只写一个语句"
   ]
  },
  {
   "cell_type": "code",
   "execution_count": null,
   "metadata": {},
   "outputs": [],
   "source": [
    "month = 7; day = 23; hour = 22; minute = 11; second = 0 # 一行也可以写多个语句, 使用 ; 进行分隔"
   ]
  },
  {
   "cell_type": "code",
   "execution_count": null,
   "metadata": {},
   "outputs": [],
   "source": [
    "if 1900 < year < 2100 and 1 <= month <= 12 \\\n",
    "   and 1 <= day <= 31 and 0 <= hour < 24 \\\n",
    "   and 0 <= minute < 60 and 0 <= second < 60: # 多个物理行组成一个逻辑行\n",
    "        print(\"时间正确\")"
   ]
  },
  {
   "cell_type": "markdown",
   "metadata": {},
   "source": [
    "Python中同样支持__增强赋值__语句"
   ]
  },
  {
   "cell_type": "code",
   "execution_count": null,
   "metadata": {},
   "outputs": [],
   "source": [
    "year += 2019 # \"+=\" | \"-=\" | \"*=\" | \"@=\" | \"/=\" | \"//=\" | \"%=\" | \"**=\" | \">>=\" | \"<<=\" | \"&=\" | \"^=\" | \"|=\""
   ]
  },
  {
   "cell_type": "code",
   "execution_count": null,
   "metadata": {},
   "outputs": [],
   "source": [
    "month **= month; print(month)"
   ]
  },
  {
   "cell_type": "markdown",
   "metadata": {},
   "source": [
    "与其他语言一样, 我们可以在代码中增加__断言语句__用于在测试阶段在代码中注入测试代码.\n",
    "\n",
    "__一般我们通过在执行代码的时候增加优化参数`-O`执行代码, 系统会自动跳过断言语句__"
   ]
  },
  {
   "cell_type": "code",
   "execution_count": null,
   "metadata": {},
   "outputs": [],
   "source": [
    "assert id(1) == id(1)"
   ]
  },
  {
   "cell_type": "code",
   "execution_count": null,
   "metadata": {},
   "outputs": [],
   "source": [
    "assert not isinstance(None, object)"
   ]
  },
  {
   "cell_type": "markdown",
   "metadata": {},
   "source": [
    "`pass`表示什么都不做, 一般拿来做代码块的占位作用"
   ]
  },
  {
   "cell_type": "code",
   "execution_count": null,
   "metadata": {},
   "outputs": [],
   "source": [
    "def implement_me():\n",
    "    pass\n",
    "implement_me()"
   ]
  },
  {
   "cell_type": "markdown",
   "metadata": {},
   "source": [
    "在Python中, 我们可以在一个函数中一次返回多个值"
   ]
  },
  {
   "cell_type": "code",
   "execution_count": null,
   "metadata": {},
   "outputs": [],
   "source": [
    "def return_multi():\n",
    "    return 1, 2, \"abc\"\n",
    "return_multi()"
   ]
  },
  {
   "attachments": {},
   "cell_type": "markdown",
   "metadata": {},
   "source": [
    "在Python中抛出一个异常使用的是`raise`而不是`throw`. 另外需要注意的是, python中支持直接使用`raise`抛出最后一个激活的异常"
   ]
  },
  {
   "cell_type": "code",
   "execution_count": null,
   "metadata": {},
   "outputs": [],
   "source": [
    "def try_raise():\n",
    "    try:\n",
    "        raise Exception(\"错误消息\")\n",
    "    except Exception as e:\n",
    "        print(\"异常消息:\", e)\n",
    "        raise\n",
    "try_raise()"
   ]
  },
  {
   "cell_type": "markdown",
   "metadata": {},
   "source": [
    "`import`语句用于引入某一个包, 查找顺序为`系统目录 -> 安装的第三方包 -> 工作目录`"
   ]
  },
  {
   "cell_type": "markdown",
   "metadata": {},
   "source": [
    "`from ... import ...`表示从某个包中引入部分内容到__当前作用域__"
   ]
  },
  {
   "cell_type": "code",
   "execution_count": null,
   "metadata": {},
   "outputs": [],
   "source": [
    "import random\n",
    "random.randint(0, 10)"
   ]
  },
  {
   "cell_type": "code",
   "execution_count": null,
   "metadata": {},
   "outputs": [],
   "source": [
    "from random import randint\n",
    "randint(0, 10)"
   ]
  },
  {
   "cell_type": "markdown",
   "metadata": {},
   "source": [
    "`global ...`语句用于声明之后的标识符号为全局变量"
   ]
  },
  {
   "cell_type": "code",
   "execution_count": null,
   "metadata": {},
   "outputs": [],
   "source": [
    "def global_var1():\n",
    "    v = 2\n",
    "    print(v, id(v))\n",
    "\n",
    "v = 1\n",
    "print(v, id(v))\n",
    "global_var()\n",
    "print(v, id(v))"
   ]
  },
  {
   "cell_type": "code",
   "execution_count": null,
   "metadata": {},
   "outputs": [],
   "source": [
    "def global_var2():\n",
    "    global v\n",
    "    v = 2\n",
    "    print(v, id(v))\n",
    "\n",
    "v = 1\n",
    "print(v, id(v))\n",
    "global_var()\n",
    "print(v, id(v))"
   ]
  },
  {
   "cell_type": "markdown",
   "metadata": {},
   "source": [
    "`nonlocal`与`global`不同之处在于:\n",
    " * `global`在任何位置都可以使用, 表示之后的标识符为全局变量\n",
    " * `nonlocal`则只有嵌套函数中才可以使用, 表示之后的标识符为外部函数的局部变量"
   ]
  },
  {
   "cell_type": "code",
   "execution_count": null,
   "metadata": {
    "scrolled": true
   },
   "outputs": [],
   "source": [
    "def nonlocal_var():\n",
    "    v = 2\n",
    "    print(v, id(v))\n",
    "    \n",
    "    def inner_func():\n",
    "        nonlocal v\n",
    "        # v = 3\n",
    "        print(v, id(v))\n",
    "    inner_func()\n",
    "\n",
    "v = 1\n",
    "print(v, id(v))\n",
    "nonlocal_var()\n",
    "print(v, id(v))"
   ]
  },
  {
   "cell_type": "markdown",
   "metadata": {},
   "source": [
    "### Python中的复合语句\n",
    "\n",
    "复合语句是包含其它语句(语句组)的语句,它们会以某种方式影响或控制所包含其它语句的执行。一般值得就是程序的判断结构， 循环结构等"
   ]
  },
  {
   "cell_type": "markdown",
   "metadata": {},
   "source": [
    "#### 判断结构\n",
    "\n",
    "在Python中的判断结构与其他语言基本类似, 需要注意的是Python中没有`else if`只有`elif`"
   ]
  },
  {
   "cell_type": "code",
   "execution_count": null,
   "metadata": {},
   "outputs": [],
   "source": [
    "def get_level(score: int) -> str:\n",
    "    if score < 60:\n",
    "        return 'D'\n",
    "    elif score < 70:\n",
    "        return 'C'\n",
    "    elif score < 80:\n",
    "        return 'B'\n",
    "    elif score < 90:\n",
    "        return 'A'\n",
    "    else:\n",
    "        return 'A+'\n",
    "print(get_level(59), get_level(61), get_level(81), get_level(100))"
   ]
  },
  {
   "cell_type": "markdown",
   "metadata": {},
   "source": [
    "#### 循环结构\n",
    "\n",
    "python中只支持`while`和`for`循环. __Python中的循环结构与众不同的一点是有一个额外的`else`段__"
   ]
  },
  {
   "cell_type": "code",
   "execution_count": null,
   "metadata": {},
   "outputs": [],
   "source": [
    "# 简单的 while 循环\n",
    "count = 3\n",
    "while count > 0:\n",
    "    value = randint(0, 5)\n",
    "    print(\"随机值:\", value)\n",
    "    if value > 3:\n",
    "        break\n",
    "    count -= 1\n",
    "else:\n",
    "    print(\"进入else\")"
   ]
  },
  {
   "cell_type": "markdown",
   "metadata": {},
   "source": [
    "`for`循环在Python仅支持`for var in iters`的形式, 同样支持`else`语句块\n",
    "\n",
    ">\n",
    "> `range`为一个特殊的函数, 函数原型为`range(start, stop, step)` 一般在`for`循环中使用\n",
    ">"
   ]
  },
  {
   "cell_type": "code",
   "execution_count": null,
   "metadata": {},
   "outputs": [],
   "source": [
    "for index in range(3):\n",
    "    value = randint(0, 5)\n",
    "    print(\"随机值:\", value)\n",
    "    if value > 3:\n",
    "        break\n",
    "else:\n",
    "    print(\"进入else\")"
   ]
  },
  {
   "cell_type": "code",
   "execution_count": null,
   "metadata": {},
   "outputs": [],
   "source": [
    "# 也可以使用for循环遍历字典和列表元组\n",
    "value = {\n",
    "    \"tuple\": (1, 2, 3),\n",
    "    \"list\": [4, 5, 6]\n",
    "}\n",
    "for k, v in value.items():\n",
    "    print(\"value[{}] = {}\".format(k, v))\n",
    "    for el in v:\n",
    "        print(\"\\t{}\".format(el))"
   ]
  },
  {
   "cell_type": "markdown",
   "metadata": {},
   "source": [
    "___思考以下打印值___"
   ]
  },
  {
   "cell_type": "code",
   "execution_count": null,
   "metadata": {},
   "outputs": [],
   "source": [
    "for i in range(3):\n",
    "    try:\n",
    "        print(1)\n",
    "        continue\n",
    "    finally:\n",
    "        print(3)\n",
    "print(4)"
   ]
  },
  {
   "cell_type": "markdown",
   "metadata": {},
   "source": [
    "### Python中的函数定义\n",
    "\n",
    "在python中我们使用`def`来定义函数, 这个关键字相当于`javascript`或者`php`中的`function`关键字\n",
    "\n",
    "__在函数定义中我们可以使用`装饰器`来装饰一个函数, 这个特性将在之后讲解到__"
   ]
  },
  {
   "cell_type": "code",
   "execution_count": null,
   "metadata": {},
   "outputs": [],
   "source": [
    "# 定义函数, 啥也不做\n",
    "def function_name1():\n",
    "    pass\n",
    "function_name1()\n",
    "#function_name1(1, 2, 3)"
   ]
  },
  {
   "cell_type": "markdown",
   "metadata": {},
   "source": [
    "在函数中我们可以定义形参, __这里可以使用变量标注增强代码的可读性和可维护性__"
   ]
  },
  {
   "cell_type": "code",
   "execution_count": null,
   "metadata": {},
   "outputs": [],
   "source": [
    "def function_name2(ival: int, sval: str) -> str:\n",
    "    return 'ival = {}, sval = {}'.format(ival, sval)\n",
    "function_name2(0, \"参数\")"
   ]
  },
  {
   "cell_type": "markdown",
   "metadata": {},
   "source": [
    "在函数声明时, 我们可以使用`*args`来声明接受可变数量的__位置参数__, 可以使用`**kwargs`来接受可变的__具名参数__"
   ]
  },
  {
   "cell_type": "code",
   "execution_count": null,
   "metadata": {},
   "outputs": [],
   "source": [
    "def function_name3(i: int, s: str, *args, **kwargs):\n",
    "    print(i, s, args, kwargs, sep=\" | \")\n",
    "function_name3(1024, \"参数2\", \"参数3\", 4, options=[1,2], size=1)"
   ]
  },
  {
   "cell_type": "markdown",
   "metadata": {},
   "source": [
    "__需要注意的是: 在`*args`接受可变变量之后的所有参数均需要带有默认值__"
   ]
  },
  {
   "cell_type": "code",
   "execution_count": null,
   "metadata": {},
   "outputs": [],
   "source": [
    "def function_name4(i, *args, count, **kwargs):\n",
    "    pass\n",
    "#function_name4(1, 2, 3)"
   ]
  },
  {
   "cell_type": "markdown",
   "metadata": {},
   "source": [
    "___思考以下返回值___"
   ]
  },
  {
   "cell_type": "code",
   "execution_count": null,
   "metadata": {},
   "outputs": [],
   "source": [
    "def test_return_in_try():\n",
    "    try:\n",
    "        return 1\n",
    "    finally:\n",
    "        return 2\n",
    "test_return_in_try()"
   ]
  },
  {
   "cell_type": "markdown",
   "metadata": {},
   "source": [
    "### Python中的类定义\n",
    "\n",
    "在Python中我们使用`class`关键字来定义类, 语法为`class ClassName(ParentClass)`, 如果不声明父类, 则默认父类为`object`\n",
    "\n",
    "___类也可以被装饰器进行装饰__"
   ]
  },
  {
   "cell_type": "code",
   "execution_count": null,
   "metadata": {},
   "outputs": [],
   "source": [
    "class Fruit(object):\n",
    "    \n",
    "    color: str  # 变量标注\n",
    "    \n",
    "    # 构造函数\n",
    "    def __init__(self, color):\n",
    "        self.color = color\n",
    "\n",
    "print(Fruit())"
   ]
  },
  {
   "cell_type": "code",
   "execution_count": null,
   "metadata": {},
   "outputs": [],
   "source": [
    "class Apple(Fruit):\n",
    "\n",
    "    # 子类的构造函数\n",
    "    def __init__(self):\n",
    "        # 调用父类的构造函数\n",
    "        super(Apple, self).__init__('red')"
   ]
  },
  {
   "cell_type": "markdown",
   "metadata": {},
   "source": [
    "当然Python中的类也支持静态方法和接口定义, 还支持`getter/setter`"
   ]
  },
  {
   "cell_type": "code",
   "execution_count": null,
   "metadata": {},
   "outputs": [],
   "source": [
    "import abc # abstract base class\n",
    "class Fruit(object, metaclass=abc.ABCMeta):\n",
    "    \n",
    "    @abc.abstractclassmethod\n",
    "    def impl_me():\n",
    "        pass\n",
    "\n",
    "print(Fruit())"
   ]
  },
  {
   "cell_type": "markdown",
   "metadata": {},
   "source": [
    "在新版本的Python中, 我们可以直接通过`@classmethod`装饰器来直接定义接口"
   ]
  },
  {
   "cell_type": "code",
   "execution_count": null,
   "metadata": {},
   "outputs": [],
   "source": [
    "class Fruit(object, metaclass=abc.ABCMeta):\n",
    "    \n",
    "    @classmethod\n",
    "    @abc.abstractmethod\n",
    "    def impl_me(cls):\n",
    "        pass\n",
    "\n",
    "print(Fruit())"
   ]
  },
  {
   "cell_type": "code",
   "execution_count": null,
   "metadata": {},
   "outputs": [],
   "source": [
    "class Apple(Fruit):\n",
    "\n",
    "    pass\n",
    "\n",
    "print(Apple())"
   ]
  },
  {
   "cell_type": "code",
   "execution_count": null,
   "metadata": {},
   "outputs": [],
   "source": [
    "class People(object):\n",
    "    \n",
    "    def __init__(self):\n",
    "        pass\n",
    "    \n",
    "    @staticmethod\n",
    "    def factory():\n",
    "        return FuShiApple()\n",
    "\n",
    "    @property\n",
    "    def weight(self):\n",
    "        return 1\n",
    "    \n",
    "    @weight.setter\n",
    "    def weight(self, v):\n",
    "        print(v)\n",
    "\n",
    "f = FuShiApple()\n",
    "print(f, f.weight)\n",
    "f.weight = 10"
   ]
  },
  {
   "cell_type": "markdown",
   "metadata": {},
   "source": [
    "## Python中的装饰器\n",
    "\n",
    "装饰器的实现基础:\n",
    " * Python中的函数是一个可变变量\n",
    " * Python支持高阶函数, 即参数可以为一个函数对象, 返回值也可以是一个函数"
   ]
  },
  {
   "cell_type": "markdown",
   "metadata": {},
   "source": [
    "Python中原生支持高阶函数, 我们先来看一个简单例子"
   ]
  },
  {
   "cell_type": "code",
   "execution_count": null,
   "metadata": {},
   "outputs": [],
   "source": [
    "def function_a():\n",
    "    print(\"function_a\")\n",
    "\n",
    "print(function_a)\n",
    "function_a, function_b = 1, function_a\n",
    "print(function_a)\n",
    "function_b()"
   ]
  },
  {
   "cell_type": "markdown",
   "metadata": {},
   "source": [
    "有了以上基础之后, 我们就可以对一个函数对象进行操作了, 来实现一个基础版本的装饰器"
   ]
  },
  {
   "cell_type": "code",
   "execution_count": null,
   "metadata": {},
   "outputs": [],
   "source": [
    "def function_a():\n",
    "    print(\"function_a\")\n",
    "\n",
    "def wrapper(func):\n",
    "    print(\"wrapper before\")\n",
    "    func()\n",
    "    print(\"wrapper after\")\n",
    "\n",
    "wrapper(function_a)"
   ]
  },
  {
   "cell_type": "markdown",
   "metadata": {},
   "source": [
    "这个版本存在一个问题就是每次都要我们手动wrapper一次才可以进行函数的调用修改, 接下来我们改进一下, 我们这次直接覆盖自身"
   ]
  },
  {
   "cell_type": "code",
   "execution_count": null,
   "metadata": {},
   "outputs": [],
   "source": [
    "def function_a():\n",
    "    print(\"function_a\")\n",
    "\n",
    "def decorator(func):\n",
    "    def __wrapper():\n",
    "        print(\"wrapper before\")\n",
    "        func()\n",
    "        print(\"wrapper after\")\n",
    "    return __wrapper\n",
    "\n",
    "function_a = decorator(function_a)\n",
    "function_a()"
   ]
  },
  {
   "cell_type": "markdown",
   "metadata": {},
   "source": [
    "接下来我们再支持下函数参数的传递"
   ]
  },
  {
   "cell_type": "code",
   "execution_count": null,
   "metadata": {},
   "outputs": [],
   "source": [
    "def function_a(value, size=1):\n",
    "    print(\"function_a\", value, size)\n",
    "\n",
    "def decorator(func):\n",
    "    def __wrapper(*args, **kwargs):\n",
    "        print(\"wrapper before\")\n",
    "        func(*args, **kwargs)\n",
    "        print(\"wrapper after\")\n",
    "    return __wrapper\n",
    "\n",
    "function_a = decorator(function_a)\n",
    "function_a(\"asd\", 123)"
   ]
  },
  {
   "cell_type": "markdown",
   "metadata": {},
   "source": [
    "其实以上就已经实现了一个装饰器了, 这时候我们直接使用语法糖来装饰"
   ]
  },
  {
   "cell_type": "code",
   "execution_count": null,
   "metadata": {
    "scrolled": false
   },
   "outputs": [],
   "source": [
    "def decorator(func):\n",
    "    def __wrapper(*args, **kwargs):\n",
    "        print(\"wrapper before\")\n",
    "        func(*args, **kwargs)\n",
    "        print(\"wrapper after\")\n",
    "    return __wrapper\n",
    "\n",
    "@decorator\n",
    "def function_a(value, size=1):\n",
    "    print(\"function_a\", value, size)\n",
    "    \n",
    "function_a(\"qqq\", 100);"
   ]
  },
  {
   "cell_type": "markdown",
   "metadata": {},
   "source": [
    "___思考如何给装饰器传递参数呢?实现以下效果___\n",
    "\n",
    "```python\n",
    "@decorator(2)\n",
    "def function_a():\n",
    "    print(1)\n",
    "function_a()\n",
    "\"\"\"\n",
    "before: 2\n",
    "1\n",
    "after: 2\n",
    "\"\"\"\n",
    "```"
   ]
  },
  {
   "cell_type": "markdown",
   "metadata": {},
   "source": [
    "___思考当多个装饰器存在的时候, 是按照什么顺序进行装饰的呢?___"
   ]
  },
  {
   "cell_type": "markdown",
   "metadata": {},
   "source": [
    "## Python中的常用容器"
   ]
  }
 ],
 "metadata": {
  "kernelspec": {
   "display_name": "Python 3",
   "language": "python",
   "name": "python3"
  },
  "language_info": {
   "codemirror_mode": {
    "name": "ipython",
    "version": 3
   },
   "file_extension": ".py",
   "mimetype": "text/x-python",
   "name": "python",
   "nbconvert_exporter": "python",
   "pygments_lexer": "ipython3",
   "version": "3.6.5"
  }
 },
 "nbformat": 4,
 "nbformat_minor": 2
}
