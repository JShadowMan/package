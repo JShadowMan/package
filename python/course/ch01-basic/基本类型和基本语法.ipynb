{
 "cells": [
  {
   "cell_type": "markdown",
   "metadata": {},
   "source": [
    "## Python中的基本类型"
   ]
  },
  {
   "cell_type": "markdown",
   "metadata": {},
   "source": [
    "### 整形(Integer)\n",
    "\n",
    "在Python中, `int`类型的长度没有限制，能一直大到占满可用内存。"
   ]
  },
  {
   "cell_type": "code",
   "execution_count": null,
   "metadata": {},
   "outputs": [],
   "source": [
    "12345678901234567890123456789012345678901234567890123456789012345678901234567890123456789012345678901234567890"
   ]
  },
  {
   "cell_type": "code",
   "execution_count": null,
   "metadata": {},
   "outputs": [],
   "source": [
    "type(12345678901234567890123456789012345678901234567890123456789012345678901234567890123456789012345678901234567890)"
   ]
  },
  {
   "cell_type": "markdown",
   "metadata": {},
   "source": [
    "可以使用`0x`或者`0X`前缀来表示一个十六进制数, 但是不可以使用`0`前缀来表示一个八进制数"
   ]
  },
  {
   "cell_type": "code",
   "execution_count": null,
   "metadata": {},
   "outputs": [],
   "source": [
    "0x123456789abcdef * 0X987654321ABCDEF"
   ]
  },
  {
   "cell_type": "code",
   "execution_count": null,
   "metadata": {},
   "outputs": [],
   "source": [
    "0123456789"
   ]
  },
  {
   "cell_type": "markdown",
   "metadata": {},
   "source": [
    "我们可以在一个整形变量的中间添加`_`以提高可读性。一个下划线可放在数字之间，也可放在基数说明符例如`0x`之后"
   ]
  },
  {
   "cell_type": "code",
   "execution_count": null,
   "metadata": {},
   "outputs": [],
   "source": [
    "123_4567_8900"
   ]
  },
  {
   "cell_type": "code",
   "execution_count": null,
   "metadata": {},
   "outputs": [],
   "source": [
    "0x_1234_5678_9abc_edf"
   ]
  },
  {
   "cell_type": "markdown",
   "metadata": {},
   "source": [
    "### 浮点数(Float)"
   ]
  },
  {
   "cell_type": "markdown",
   "metadata": {},
   "source": [
    "Python中的浮点数没有`float`和`double`之分. 和整形不同的是, Python中的浮点数是有长度限制的. "
   ]
  },
  {
   "cell_type": "code",
   "execution_count": null,
   "metadata": {},
   "outputs": [],
   "source": [
    ".12345678923456789234567892345678923456789"
   ]
  },
  {
   "cell_type": "markdown",
   "metadata": {},
   "source": [
    "与其他语言一样, 我们也可以使用科学计数法来表示一个浮点数. 我们也可以在数字中间增加`_`以增加可读性\n",
    "\n",
    "> 整型数部分和指数部分在解析时总是以 10 为基数"
   ]
  },
  {
   "cell_type": "code",
   "execution_count": null,
   "metadata": {},
   "outputs": [],
   "source": [
    "3.14e-10"
   ]
  },
  {
   "cell_type": "code",
   "execution_count": null,
   "metadata": {},
   "outputs": [],
   "source": [
    "0e0"
   ]
  },
  {
   "cell_type": "code",
   "execution_count": null,
   "metadata": {},
   "outputs": [],
   "source": [
    "3.14_15_92_65_3"
   ]
  },
  {
   "cell_type": "markdown",
   "metadata": {},
   "source": [
    "### 字符串(String)"
   ]
  },
  {
   "cell_type": "markdown",
   "metadata": {},
   "source": [
    "与其他语言一样, Python中也是使用**成对**的`'`或者`\"`来标示一个字符串的首尾, 被包围的中间部分就是该字符串的值."
   ]
  },
  {
   "cell_type": "code",
   "execution_count": null,
   "metadata": {},
   "outputs": [],
   "source": [
    "\"这是一个字符串\""
   ]
  },
  {
   "cell_type": "markdown",
   "metadata": {},
   "source": [
    "对于在特定情况下需要书写多行文本, 又不想使用`\\n`或者`\\`来转义换行符的情况下, 我们可以使用**成对**的`'''`或者`\"\"\"`来表示一个长字符串, 在被包围的中间部分的字符是不会被转义且保持换行符的.\n",
    "\n",
    "__注意以下代码的输出结果, 尝试解答为什么会发生这种情况.__"
   ]
  },
  {
   "cell_type": "code",
   "execution_count": null,
   "metadata": {},
   "outputs": [],
   "source": [
    "\"\"\"这是第一行.\n",
    "这是第二行. 这里面的内容不会发生转义 \"\"  '' \\\\ \\\\\\ \\\\\\\\\n",
    "但是单个斜杠出现的时候就会转义之后的字符 *\\ \\\"\\'*\n",
    "\"\"\""
   ]
  },
  {
   "cell_type": "markdown",
   "metadata": {},
   "source": [
    "不同于其他语言, 我们可以在字符串前面增加前缀以达到某些特定的需求. 常用的前缀有以下几个\n",
    "\n",
    "__需要注意的是前缀和字符串之间是不允许出现空格的__"
   ]
  },
  {
   "cell_type": "markdown",
   "metadata": {},
   "source": [
    "`r`或者`R`: 这种字符串被称为 __原始字符串__ 其中的反斜杠会被当作其本身的字面字符来处理."
   ]
  },
  {
   "cell_type": "code",
   "execution_count": null,
   "metadata": {},
   "outputs": [],
   "source": [
    "r\"\\a\\b\\n\\t\""
   ]
  },
  {
   "cell_type": "markdown",
   "metadata": {},
   "source": [
    "__思考以下代码是否会出问题__"
   ]
  },
  {
   "cell_type": "code",
   "execution_count": null,
   "metadata": {},
   "outputs": [],
   "source": [
    "r\"\\\""
   ]
  },
  {
   "cell_type": "markdown",
   "metadata": {},
   "source": [
    "`u`或者`U`: 一般在Python2中使用, 表示声明内容为unicode字符, 在Python3中所有的字符串均为unicode字符.\n",
    "\n",
    "在Python3的字符串中可以使用以下3中方式转义unicode字符\n",
    " * `\\N{name}`: Unicode 数据库中名称为 name 的字符\n",
    " * `\\uxxxx`: 16位十六进制数 xxxx 码位的字符\n",
    " * `\\Uxxxxxxxx`: 32位16进制数 xxxxxxxx 码位的字符\n",
    " \n",
    "> [unicode编码表可以从这里查看](https://unicode-table.com/en/)"
   ]
  },
  {
   "cell_type": "code",
   "execution_count": null,
   "metadata": {},
   "outputs": [],
   "source": [
    "'\\N{Dollar Sign}   \\u0024   \\U00000024'"
   ]
  },
  {
   "cell_type": "markdown",
   "metadata": {},
   "source": [
    "__思考以下代码的输入内容__"
   ]
  },
  {
   "cell_type": "code",
   "execution_count": null,
   "metadata": {},
   "outputs": [],
   "source": [
    "r\"'\\N{Dollar Sign}   \\u0024   \\U00000024\""
   ]
  },
  {
   "cell_type": "markdown",
   "metadata": {},
   "source": [
    "`b`或者`B`: 使用这个前缀表示生成`bytes`类型而非`str`类型的实例. 它们只能包含 ASCII 字符；字节对应数值在128及以上必须以转义形式来表示。"
   ]
  },
  {
   "cell_type": "code",
   "execution_count": null,
   "metadata": {},
   "outputs": [],
   "source": [
    "b\"abcdefg\\x80\\xff\""
   ]
  },
  {
   "cell_type": "code",
   "execution_count": null,
   "metadata": {},
   "outputs": [],
   "source": [
    "b\"你好\""
   ]
  },
  {
   "cell_type": "markdown",
   "metadata": {},
   "source": [
    "注意字符串前缀也可以组合使用, 最常用的组合就是为`rb`, 表示不转义`bytes`的内容的值, 这就意味着只能在里面写ASCII码"
   ]
  },
  {
   "cell_type": "code",
   "execution_count": null,
   "metadata": {},
   "outputs": [],
   "source": [
    "rb\"\\\\\\x123\""
   ]
  },
  {
   "cell_type": "markdown",
   "metadata": {},
   "source": [
    "### 字符串(String)和Bytes的相互转换和它们之间的联系\n",
    "\n",
    "这里首先需要知道的就是为何会诞生`unicode`编码. 其实`unicode`编码诞生的原因很简单, 就是因为 __字不够用了__\n",
    "\n",
    "第二点需要知道的就是在计算机中所有数据都是以二进制保存和使用的.(这里可以深入研究原码, 反码, 补码之间的关系)\n",
    "\n",
    "> `encode`就是将人类可读字符串(str)的转换为计算机可读的字符串(bytes)\n",
    "> `decode`就是将计算机可读的字符串(bytes)转换为人类可读的字符串(str)\n",
    "\n",
    "在这个过程中, 我们是站在计算机的角度上来解读`encode`和`decode`\n",
    "\n",
    "__需要注意的是: 某一种编码是有容量范围的, 比如ASCII只能容纳256个字符, Unicode只能容纳65536个字符__"
   ]
  },
  {
   "cell_type": "code",
   "execution_count": null,
   "metadata": {},
   "outputs": [],
   "source": [
    "'abc'.encode('ascii')"
   ]
  },
  {
   "cell_type": "code",
   "execution_count": null,
   "metadata": {},
   "outputs": [],
   "source": [
    "'abc'.encode('utf-8')"
   ]
  },
  {
   "cell_type": "code",
   "execution_count": null,
   "metadata": {},
   "outputs": [],
   "source": [
    "\"这是一个中文字符\".encode('utf-8')"
   ]
  },
  {
   "cell_type": "code",
   "execution_count": null,
   "metadata": {},
   "outputs": [],
   "source": [
    "\"这是一个中文字符\".encode('ascii')"
   ]
  },
  {
   "cell_type": "code",
   "execution_count": null,
   "metadata": {},
   "outputs": [],
   "source": [
    "b'\\xe8\\xbf\\x99\\xe6\\x98\\xaf\\xe4\\xb8\\x80\\xe4\\xb8\\xaa\\xe4\\xb8\\xad\\xe6\\x96\\x87\\xe5\\xad\\x97\\xe7\\xac\\xa6'.decode('utf-8')"
   ]
  },
  {
   "cell_type": "code",
   "execution_count": null,
   "metadata": {},
   "outputs": [],
   "source": [
    "b'\\xe8\\xbf\\x99\\xe6\\x98\\xaf\\xe4\\xb8\\x80\\xe4\\xb8\\xaa\\xe4\\xb8\\xad\\xe6\\x96\\x87\\xe5\\xad\\x97\\xe7\\xac\\xa6'.decode('ascii')"
   ]
  },
  {
   "cell_type": "markdown",
   "metadata": {},
   "source": [
    "### 布尔类型(Boolean)\n",
    "\n",
    "与其他语言类型, 布尔类型只有2个字面值. 分别是`True`和`False`. __注意是区分大小写的__"
   ]
  },
  {
   "cell_type": "code",
   "execution_count": null,
   "metadata": {},
   "outputs": [],
   "source": [
    "True"
   ]
  },
  {
   "cell_type": "markdown",
   "metadata": {},
   "source": [
    "### 空值(None)\n",
    "\n",
    "空值是一个特殊的值, 使用`None`表示, 但是需要注意区别`0`和`False`. 因为后者是有意义的, 而前者是没有意义的."
   ]
  },
  {
   "cell_type": "code",
   "execution_count": null,
   "metadata": {},
   "outputs": [],
   "source": [
    "None"
   ]
  },
  {
   "cell_type": "markdown",
   "metadata": {},
   "source": [
    "### 复数(Complex)\n",
    "\n",
    "复数就是带有实部和虚部的数, 一般多出现于科学计算中. 在数学中使用`i`来定义, 但是在python中使用`j`后缀来表示."
   ]
  },
  {
   "cell_type": "code",
   "execution_count": null,
   "metadata": {},
   "outputs": [],
   "source": [
    "1j * 1j"
   ]
  },
  {
   "cell_type": "markdown",
   "metadata": {},
   "source": [
    "## Python中的运算符"
   ]
  },
  {
   "cell_type": "markdown",
   "metadata": {},
   "source": [
    "### 代数运算符\n",
    "\n",
    "一般代数运算符为`+`, `-`, `*`, `/`, `//`, `**`, `%`"
   ]
  },
  {
   "cell_type": "markdown",
   "metadata": {},
   "source": [
    "这里简单介绍下`/`和`//`的区别.\n",
    " * `/`表示数学意义上的除法, 会得到一个浮点数.\n",
    " * `//`表示C语言中的整数除法, 会得到一个整形"
   ]
  },
  {
   "cell_type": "code",
   "execution_count": null,
   "metadata": {},
   "outputs": [],
   "source": [
    "1 / 3"
   ]
  },
  {
   "cell_type": "code",
   "execution_count": null,
   "metadata": {},
   "outputs": [],
   "source": [
    "type(2 / 2)"
   ]
  },
  {
   "cell_type": "code",
   "execution_count": null,
   "metadata": {},
   "outputs": [],
   "source": [
    "10 // 3"
   ]
  },
  {
   "cell_type": "code",
   "execution_count": null,
   "metadata": {},
   "outputs": [],
   "source": [
    "type(10 // 3)"
   ]
  },
  {
   "cell_type": "markdown",
   "metadata": {},
   "source": [
    "`**`表示乘方运算, `a ** b`的意义为a的b次方"
   ]
  },
  {
   "cell_type": "code",
   "execution_count": null,
   "metadata": {},
   "outputs": [],
   "source": [
    "21 ** 21"
   ]
  },
  {
   "cell_type": "markdown",
   "metadata": {},
   "source": [
    "### Python中的位运算符\n",
    "\n",
    "常见的位运算符有`>>`, `<<`, `&`, `|`, `^`, `~`"
   ]
  },
  {
   "cell_type": "code",
   "execution_count": null,
   "metadata": {},
   "outputs": [],
   "source": [
    "1 << 32"
   ]
  },
  {
   "cell_type": "code",
   "execution_count": null,
   "metadata": {},
   "outputs": [],
   "source": [
    "0x800000 >> 16"
   ]
  },
  {
   "cell_type": "markdown",
   "metadata": {},
   "source": [
    "### Python中的逻辑运算\n",
    "\n",
    "逻辑运算得到为布尔类型, 与其他语言一样, 均支持`>`, `>=`, `<`, `<=`, `==`, `!=`运算.\n",
    "在Python中还有2个比较特殊的逻辑运算关键字`is`和`not`"
   ]
  },
  {
   "cell_type": "markdown",
   "metadata": {},
   "source": [
    "`is`的依据是相对比两者的地址是否一致, `==`判断的是两者的值是否一致"
   ]
  },
  {
   "cell_type": "code",
   "execution_count": null,
   "metadata": {},
   "outputs": [],
   "source": [
    "1 is 1"
   ]
  },
  {
   "cell_type": "code",
   "execution_count": null,
   "metadata": {},
   "outputs": [],
   "source": [
    "1 == 1"
   ]
  },
  {
   "cell_type": "code",
   "execution_count": null,
   "metadata": {},
   "outputs": [],
   "source": [
    "[] == []"
   ]
  },
  {
   "cell_type": "code",
   "execution_count": null,
   "metadata": {},
   "outputs": [],
   "source": [
    "[] is []"
   ]
  },
  {
   "cell_type": "markdown",
   "metadata": {},
   "source": [
    "## Python中的变量\n",
    "\n",
    "Python中的变量的命名规则与其他语言一样. __变量名必须是大小写英文, 数字和_的组合, 且不能用数字开头__\n",
    "\n",
    "\n",
    "与其他语言所不同的是, Python的变量所持有的是一个内存地址的引用. 相同**字面值**的变量会得到相同的引用."
   ]
  },
  {
   "cell_type": "code",
   "execution_count": null,
   "metadata": {},
   "outputs": [],
   "source": [
    "str1 = 'abc'"
   ]
  },
  {
   "cell_type": "code",
   "execution_count": null,
   "metadata": {},
   "outputs": [],
   "source": [
    "str2 = 'abc'"
   ]
  },
  {
   "cell_type": "markdown",
   "metadata": {},
   "source": [
    "我们使用`id(var)`方法来获取一个Python变量的内存地址, `is`判断的其实就是`id(var)`得到的值是否相同."
   ]
  },
  {
   "cell_type": "code",
   "execution_count": null,
   "metadata": {},
   "outputs": [],
   "source": [
    "id(str1), id(str2), str1 == str2, str1 is str2"
   ]
  },
  {
   "cell_type": "markdown",
   "metadata": {},
   "source": [
    "当我们这里修改变量`str1`的值, 变量`str2`的值会发生变化嘛?"
   ]
  },
  {
   "cell_type": "code",
   "execution_count": null,
   "metadata": {},
   "outputs": [],
   "source": [
    "str1 = 'xyz'"
   ]
  },
  {
   "cell_type": "code",
   "execution_count": null,
   "metadata": {},
   "outputs": [],
   "source": [
    "str1, str2, id(str1), id(str2), str1 == str2, str1 is str2"
   ]
  },
  {
   "cell_type": "markdown",
   "metadata": {},
   "source": [
    "这个结果产生的原因有以下几点:\n",
    " * __字面值__为_不可变量__\n",
    " * 变量持有的是某一块内存的只读引用\n",
    "\n",
    "以下图示会更加简洁明了的解释这个问题.\n",
    "\n",
    "1. 首先我们声明了一个变量`str1`, 它的值为`abc`字面值\n",
    "\n",
    "![first](1.png)\n",
    "\n",
    "2. 然后我们又声明了一个变量`str2`, 它的值也为`abc`字面值\n",
    "\n",
    "![second](2.png)\n",
    "\n",
    "3. 然后我们修改变量`str2`的值为`xyz`字面值\n",
    "\n",
    "![third](3.png)"
   ]
  },
  {
   "cell_type": "markdown",
   "metadata": {},
   "source": [
    "从以上我们可以得知\n",
    " * Python中的相同的字面值都会得到相同的内存引用\n",
    " * 字面值在Python属于只读引用, 如果重新赋值一个新字面值, 内存地址会发生变化"
   ]
  }
 ],
 "metadata": {
  "kernelspec": {
   "display_name": "Python 3",
   "language": "python",
   "name": "python3"
  },
  "language_info": {
   "codemirror_mode": {
    "name": "ipython",
    "version": 3
   },
   "file_extension": ".py",
   "mimetype": "text/x-python",
   "name": "python",
   "nbconvert_exporter": "python",
   "pygments_lexer": "ipython3",
   "version": "3.6.5"
  }
 },
 "nbformat": 4,
 "nbformat_minor": 2
}
